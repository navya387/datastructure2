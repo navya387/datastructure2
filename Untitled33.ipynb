{
  "nbformat": 4,
  "nbformat_minor": 0,
  "metadata": {
    "colab": {
      "provenance": []
    },
    "kernelspec": {
      "name": "python3",
      "display_name": "Python 3"
    },
    "language_info": {
      "name": "python"
    }
  },
  "cells": [
    {
      "cell_type": "markdown",
      "source": [
        "1. What are data structures, and why are they important?\n",
        " * Data structures are ways of organizing and storing data. They are important\n",
        "because they make data access and manipulation more efficient.\n",
        "\n",
        "2. Explain the difference between mutable and immutable data types with examples.\n",
        "* Mutable types can be changed after creation, like lists and dictionaries. Immutable types cannot be changed after creation, like strings and tuples.\n",
        "\n",
        "3. What are the main differences between lists and tuples in Python?\n",
        "* Lists can be changed, while tuples cannot. Lists are used for dynamic data, and tuples are used for fixed data.\n",
        "\n",
        "4. Describe how dictionaries store data.\n",
        "\n",
        "* Dictionaries store data in pairs of keys and values. Each key points to a specific value.\n",
        "\n",
        "5. Why might you use a set instead of a list in Python?\n",
        "* Sets are used when you want to store only unique items and check for membership quickly.\n",
        "\n",
        "6. What is a string in Python, and how is it different from a list?\n",
        "* A string is a sequence of characters and cannot be changed. A list is a sequence of items that can be changed.\n",
        "\n",
        "7. How do tuples ensure data integrity in Python?\n",
        "* Tuples cannot be changed after creation, which keeps the data safe from accidental updates.\n",
        "\n",
        "8. What is a hash table, and how does it relate to dictionaries in Python?\n",
        "* A hash table is a structure that stores data using a special key system. Python dictionaries use hash tables to find values quickly.\n",
        "\n",
        "9. Can lists contain different data types in Python?\n",
        "* Yes, lists can hold items of different types, like numbers, words, and more.\n",
        "\n",
        "10. Explain why strings are immutable in Python.\n",
        "\n",
        "* Strings are immutable to make them safe, fast, and reliable, especially when used in key-based operations.\n",
        "\n",
        "11. What advantages do dictionaries offer over lists for certain tasks?\n",
        "* Dictionaries allow fast lookups using meaningful keys, while lists require searching by position.\n",
        "\n",
        "12. Describe a scenario where using a tuple would be preferable over a list.\n",
        "* Use a tuple when the data should stay the same, like storing dates or coordinates.\n",
        "\n",
        "13. How do sets handle duplicate values in Python?\n",
        "* Sets automatically remove duplicates, so each value appears only once.\n",
        "\n",
        "14. How does the “in” keyword work differently for lists and dictionaries?\n",
        "* In lists, it checks if a value exists. In dictionaries, it checks if a key exists.\n",
        "\n",
        "15. Can you modify the elements of a tuple? Explain why or why not.\n",
        "* No, tuples cannot be changed. This helps keep the data safe and fixed.\n",
        "\n",
        "16. What is a nested dictionary, and give an example of its use case.\n",
        "* A nested dictionary is a dictionary inside another dictionary. It's useful for storing complex data, like student records.\n",
        "\n",
        "17. Describe the time complexity of accessing elements in a dictionary.\n",
        "* Accessing a value in a dictionary is very fast and usually takes constant time.\n",
        "\n",
        "18. In what situations are lists preferred over dictionaries?\n",
        "* Lists are better when you need to keep order, allow duplicates, or use position-based access.\n",
        "\n",
        "19. Why are dictionaries considered unordered, and how does that affect data retrieval?\n",
        "* Dictionaries were unordered in earlier versions. Now they keep order, but keys should still be used for access, not positions.\n",
        "\n",
        "20. Explain the difference between a list and a dictionary in terms of data retrieval.\n",
        "* Lists retrieve items by position. Dictionaries retrieve items using a key.\n",
        "\n"
      ],
      "metadata": {
        "id": "WTYCkbKzMEQy"
      }
    },
    {
      "cell_type": "markdown",
      "source": [
        "1. Write a code to create a string with your name and print it"
      ],
      "metadata": {
        "id": "jd9bw4BMO6xJ"
      }
    },
    {
      "cell_type": "code",
      "source": [
        "name = \"Navya\"\n",
        "print(name)\n"
      ],
      "metadata": {
        "colab": {
          "base_uri": "https://localhost:8080/"
        },
        "id": "KFlWDlXWOxLt",
        "outputId": "17630d96-990d-43e6-d382-de1d299b0b51"
      },
      "execution_count": 31,
      "outputs": [
        {
          "output_type": "stream",
          "name": "stdout",
          "text": [
            "Navya\n"
          ]
        }
      ]
    },
    {
      "cell_type": "markdown",
      "source": [
        "2. Write a code to find the length of the string \"Hello World\""
      ],
      "metadata": {
        "id": "7j3cNYDsO-i0"
      }
    },
    {
      "cell_type": "code",
      "source": [
        "text = \"Hello World\"\n",
        "print(len(text))\n"
      ],
      "metadata": {
        "colab": {
          "base_uri": "https://localhost:8080/"
        },
        "id": "CcNPOTxJPC5u",
        "outputId": "e059b60c-0ad0-40ec-90da-5b771764922a"
      },
      "execution_count": 32,
      "outputs": [
        {
          "output_type": "stream",
          "name": "stdout",
          "text": [
            "11\n"
          ]
        }
      ]
    },
    {
      "cell_type": "markdown",
      "source": [
        "3. Write a code to slice the first 3 characters from the string \"Python Programming\""
      ],
      "metadata": {
        "id": "cbHm4W3nPHF8"
      }
    },
    {
      "cell_type": "code",
      "source": [
        "text = \"Python Programming\"\n",
        "print(text[:3])\n"
      ],
      "metadata": {
        "colab": {
          "base_uri": "https://localhost:8080/"
        },
        "id": "Gz7DuBynPoBI",
        "outputId": "add32c18-15f8-47bf-ec60-f6287091f5f8"
      },
      "execution_count": 33,
      "outputs": [
        {
          "output_type": "stream",
          "name": "stdout",
          "text": [
            "Pyt\n"
          ]
        }
      ]
    },
    {
      "cell_type": "markdown",
      "source": [
        "4. Write a code to convert the string \"hello\" to uppercase"
      ],
      "metadata": {
        "id": "t5RgxFpxPM7K"
      }
    },
    {
      "cell_type": "code",
      "source": [
        "word = \"hello\"\n",
        "print(word.upper())\n"
      ],
      "metadata": {
        "colab": {
          "base_uri": "https://localhost:8080/"
        },
        "id": "_r9CtZzQPsGW",
        "outputId": "95869490-5b40-44b3-d8d5-769f397b72c5"
      },
      "execution_count": 34,
      "outputs": [
        {
          "output_type": "stream",
          "name": "stdout",
          "text": [
            "HELLO\n"
          ]
        }
      ]
    },
    {
      "cell_type": "markdown",
      "source": [
        "5. Write a code to replace the word \"apple\" with \"orange\" in the string \"I like apple\""
      ],
      "metadata": {
        "id": "as6UI9oiPM-l"
      }
    },
    {
      "cell_type": "code",
      "source": [
        "sentence = \"I like apple\"\n",
        "print(sentence.replace(\"apple\", \"orange\"))\n"
      ],
      "metadata": {
        "colab": {
          "base_uri": "https://localhost:8080/"
        },
        "id": "D45w4W7aPwf3",
        "outputId": "aa129b0a-4691-40ae-d59e-6a8156a93d80"
      },
      "execution_count": 35,
      "outputs": [
        {
          "output_type": "stream",
          "name": "stdout",
          "text": [
            "I like orange\n"
          ]
        }
      ]
    },
    {
      "cell_type": "markdown",
      "source": [
        "6. Write a code to create a list with numbers 1 to 5 and print it"
      ],
      "metadata": {
        "id": "wH5eWNDlPNIO"
      }
    },
    {
      "cell_type": "code",
      "source": [
        "numbers = [1, 2, 3, 4, 5]\n",
        "print(numbers)\n"
      ],
      "metadata": {
        "colab": {
          "base_uri": "https://localhost:8080/"
        },
        "id": "ZPpUS2SDPzRv",
        "outputId": "d8d0067c-510c-4d38-cde0-e17f75a79137"
      },
      "execution_count": 36,
      "outputs": [
        {
          "output_type": "stream",
          "name": "stdout",
          "text": [
            "[1, 2, 3, 4, 5]\n"
          ]
        }
      ]
    },
    {
      "cell_type": "markdown",
      "source": [
        "7. Write a code to append the number 10 to the list [1, 2, 3, 4]"
      ],
      "metadata": {
        "id": "0X4o6EauPNM3"
      }
    },
    {
      "cell_type": "code",
      "source": [
        "sentence = \"I like apple\"\n",
        "print(sentence.replace(\"apple\", \"orange\"))\n"
      ],
      "metadata": {
        "colab": {
          "base_uri": "https://localhost:8080/"
        },
        "id": "zPjgCD6nP3va",
        "outputId": "6c28d2d2-ce6b-4889-ff5b-2db83b96e325"
      },
      "execution_count": 37,
      "outputs": [
        {
          "output_type": "stream",
          "name": "stdout",
          "text": [
            "I like orange\n"
          ]
        }
      ]
    },
    {
      "cell_type": "markdown",
      "source": [
        "8. Write a code to remove the number 3 from the list [1, 2, 3, 4, 5]"
      ],
      "metadata": {
        "id": "ThyV6UQxPNSG"
      }
    },
    {
      "cell_type": "code",
      "source": [
        "numbers = [1, 2, 3, 4, 5]\n",
        "numbers.remove(3)\n",
        "print(numbers)\n"
      ],
      "metadata": {
        "colab": {
          "base_uri": "https://localhost:8080/"
        },
        "id": "9g_fCnimP672",
        "outputId": "e6612f4d-831f-4680-d2e7-3ac75e6d8f1d"
      },
      "execution_count": 38,
      "outputs": [
        {
          "output_type": "stream",
          "name": "stdout",
          "text": [
            "[1, 2, 4, 5]\n"
          ]
        }
      ]
    },
    {
      "cell_type": "markdown",
      "source": [
        "9. Write a code to access the second element in the list ['a', 'b', 'c', 'd']"
      ],
      "metadata": {
        "id": "ulClcH-ePNWw"
      }
    },
    {
      "cell_type": "code",
      "source": [
        "letters = ['a', 'b', 'c', 'd']\n",
        "print(letters[1])\n"
      ],
      "metadata": {
        "colab": {
          "base_uri": "https://localhost:8080/"
        },
        "id": "ZJMZt8mUP_FM",
        "outputId": "6c332715-1a40-41fa-8703-5ae46dc25590"
      },
      "execution_count": 39,
      "outputs": [
        {
          "output_type": "stream",
          "name": "stdout",
          "text": [
            "b\n"
          ]
        }
      ]
    },
    {
      "cell_type": "markdown",
      "source": [
        "10. Write a code to reverse the list [10, 20, 30, 40, 50]"
      ],
      "metadata": {
        "id": "e3bgwRKBPNaM"
      }
    },
    {
      "cell_type": "code",
      "source": [
        "numbers = [10, 20, 30, 40, 50]\n",
        "numbers.reverse()\n",
        "print(numbers)\n"
      ],
      "metadata": {
        "colab": {
          "base_uri": "https://localhost:8080/"
        },
        "id": "NDzfLSKAQCYa",
        "outputId": "ae0cca34-a932-4ba0-b9a0-1fe46a9533ca"
      },
      "execution_count": 40,
      "outputs": [
        {
          "output_type": "stream",
          "name": "stdout",
          "text": [
            "[50, 40, 30, 20, 10]\n"
          ]
        }
      ]
    },
    {
      "cell_type": "markdown",
      "source": [
        "11. Create a tuple with the elements 100, 200, 300 and print it"
      ],
      "metadata": {
        "id": "w8smhHOVQEnm"
      }
    },
    {
      "cell_type": "code",
      "source": [
        "numbers = (100, 200, 300)\n",
        "print(numbers)\n"
      ],
      "metadata": {
        "colab": {
          "base_uri": "https://localhost:8080/"
        },
        "id": "HG_YfmIYQPo2",
        "outputId": "fbd8ebba-f09d-4005-81f0-374aeeaf346c"
      },
      "execution_count": 41,
      "outputs": [
        {
          "output_type": "stream",
          "name": "stdout",
          "text": [
            "(100, 200, 300)\n"
          ]
        }
      ]
    },
    {
      "cell_type": "markdown",
      "source": [
        "12. Access the second-to-last element of the tuple ('red', 'green', 'blue', 'yellow')."
      ],
      "metadata": {
        "id": "yv-XzvGbQEqj"
      }
    },
    {
      "cell_type": "code",
      "source": [
        "colors = ('red', 'green', 'blue', 'yellow')\n",
        "print(colors[-2])\n"
      ],
      "metadata": {
        "colab": {
          "base_uri": "https://localhost:8080/"
        },
        "id": "kX6yU-85QWwn",
        "outputId": "863ab21b-c8a9-4f77-c7aa-1fdb18f97cd6"
      },
      "execution_count": 42,
      "outputs": [
        {
          "output_type": "stream",
          "name": "stdout",
          "text": [
            "blue\n"
          ]
        }
      ]
    },
    {
      "cell_type": "markdown",
      "source": [
        "13. Find the minimum number in the tuple (10, 20, 5, 15"
      ],
      "metadata": {
        "id": "QwyejHjGQEtj"
      }
    },
    {
      "cell_type": "code",
      "source": [
        "nums = (10, 20, 5, 15)\n",
        "print(min(nums))\n"
      ],
      "metadata": {
        "colab": {
          "base_uri": "https://localhost:8080/"
        },
        "id": "ahA2qAa_Qdkq",
        "outputId": "20b1105d-743d-42e1-c73c-0a0a1e95de17"
      },
      "execution_count": 43,
      "outputs": [
        {
          "output_type": "stream",
          "name": "stdout",
          "text": [
            "5\n"
          ]
        }
      ]
    },
    {
      "cell_type": "markdown",
      "source": [
        "14. Find the index of the element \"cat\" in the tuple ('dog', 'cat', 'rabbit')."
      ],
      "metadata": {
        "id": "LPcl21IYQExD"
      }
    },
    {
      "cell_type": "code",
      "source": [
        "animals = ('dog', 'cat', 'rabbit')\n",
        "print(animals.index(\"cat\"))\n"
      ],
      "metadata": {
        "colab": {
          "base_uri": "https://localhost:8080/"
        },
        "id": "TUTC2Rn0QjkJ",
        "outputId": "7e5baaf8-c1d0-4882-a8b7-0588ec3eb039"
      },
      "execution_count": 44,
      "outputs": [
        {
          "output_type": "stream",
          "name": "stdout",
          "text": [
            "1\n"
          ]
        }
      ]
    },
    {
      "cell_type": "markdown",
      "source": [
        "15. Create a tuple with three fruits and check if \"kiwi\" is in it."
      ],
      "metadata": {
        "id": "v58atPSLQEz6"
      }
    },
    {
      "cell_type": "code",
      "source": [
        "fruits = (\"apple\", \"banana\", \"mango\")\n",
        "print(\"kiwi\" in fruits)\n"
      ],
      "metadata": {
        "colab": {
          "base_uri": "https://localhost:8080/"
        },
        "id": "Qt2j4gAEQo29",
        "outputId": "f63a075b-87c2-41fa-f105-2ed78dfd469e"
      },
      "execution_count": 45,
      "outputs": [
        {
          "output_type": "stream",
          "name": "stdout",
          "text": [
            "False\n"
          ]
        }
      ]
    },
    {
      "cell_type": "markdown",
      "source": [
        "16. Create a set with elements 'a', 'b', 'c' and print it."
      ],
      "metadata": {
        "id": "0gfd7mBIQE3d"
      }
    },
    {
      "cell_type": "code",
      "source": [
        "letters = {'a', 'b', 'c'}\n",
        "print(letters)\n"
      ],
      "metadata": {
        "colab": {
          "base_uri": "https://localhost:8080/"
        },
        "id": "3nI2oBvCQub_",
        "outputId": "bd420337-7de6-4311-c0cd-775fa47cf404"
      },
      "execution_count": 46,
      "outputs": [
        {
          "output_type": "stream",
          "name": "stdout",
          "text": [
            "{'b', 'a', 'c'}\n"
          ]
        }
      ]
    },
    {
      "cell_type": "markdown",
      "source": [
        "17. Clear all elements from the set {1, 2, 3, 4, 5}."
      ],
      "metadata": {
        "id": "xYMNvBp0QE6Y"
      }
    },
    {
      "cell_type": "code",
      "source": [
        "nums = {1, 2, 3, 4, 5}\n",
        "nums.clear()\n",
        "print(nums)\n"
      ],
      "metadata": {
        "colab": {
          "base_uri": "https://localhost:8080/"
        },
        "id": "f7QXFK6BQzUf",
        "outputId": "b3e278f5-69e3-401b-8912-e36a934bd148"
      },
      "execution_count": 47,
      "outputs": [
        {
          "output_type": "stream",
          "name": "stdout",
          "text": [
            "set()\n"
          ]
        }
      ]
    },
    {
      "cell_type": "markdown",
      "source": [
        "18. Remove the element 4 from the set {1, 2, 3, 4}."
      ],
      "metadata": {
        "id": "N105FczIQE9y"
      }
    },
    {
      "cell_type": "code",
      "source": [
        "nums = {1, 2, 3, 4}\n",
        "nums.remove(4)\n",
        "print(nums)\n"
      ],
      "metadata": {
        "colab": {
          "base_uri": "https://localhost:8080/"
        },
        "id": "_Zzmx05AQ6VM",
        "outputId": "6952813c-9ff9-486f-b3b3-5b9426dd90a3"
      },
      "execution_count": 48,
      "outputs": [
        {
          "output_type": "stream",
          "name": "stdout",
          "text": [
            "{1, 2, 3}\n"
          ]
        }
      ]
    },
    {
      "cell_type": "markdown",
      "source": [
        "19. Find the union of two sets {1, 2, 3} and {3, 4, 5}."
      ],
      "metadata": {
        "id": "XaIFhYiRQFFy"
      }
    },
    {
      "cell_type": "code",
      "source": [
        "a = {1, 2, 3}\n",
        "b = {3, 4, 5}\n",
        "print(a.union(b))"
      ],
      "metadata": {
        "colab": {
          "base_uri": "https://localhost:8080/"
        },
        "id": "xLV3r3I2RBmC",
        "outputId": "72dce6cd-5a9f-4557-9950-ed36f344ff52"
      },
      "execution_count": 49,
      "outputs": [
        {
          "output_type": "stream",
          "name": "stdout",
          "text": [
            "{1, 2, 3, 4, 5}\n"
          ]
        }
      ]
    },
    {
      "cell_type": "markdown",
      "source": [
        "20. Find the intersection of two sets {1, 2, 3} and {2, 3, 4}."
      ],
      "metadata": {
        "id": "q1aEjLrqQGwn"
      }
    },
    {
      "cell_type": "code",
      "source": [
        "a = {1, 2, 3}\n",
        "b = {2, 3, 4}\n",
        "print(a.intersection(b))\n"
      ],
      "metadata": {
        "colab": {
          "base_uri": "https://localhost:8080/"
        },
        "id": "J3I54H6jRKKO",
        "outputId": "a6a49970-47e2-48f7-9b22-3e5299cf9631"
      },
      "execution_count": 50,
      "outputs": [
        {
          "output_type": "stream",
          "name": "stdout",
          "text": [
            "{2, 3}\n"
          ]
        }
      ]
    },
    {
      "cell_type": "markdown",
      "source": [
        "21. Create a dictionary with keys \"name\", \"age\", and \"city\", and print it."
      ],
      "metadata": {
        "id": "ZgBuFC8CPNhU"
      }
    },
    {
      "cell_type": "code",
      "source": [
        "person = {\"name\": \"Anna\", \"age\": 28, \"city\": \"Delhi\"}\n",
        "print(person)\n"
      ],
      "metadata": {
        "colab": {
          "base_uri": "https://localhost:8080/"
        },
        "id": "Lqa-P6yQRQeK",
        "outputId": "650b79e0-3b8a-4b96-b8c4-824ba9a0f14a"
      },
      "execution_count": 51,
      "outputs": [
        {
          "output_type": "stream",
          "name": "stdout",
          "text": [
            "{'name': 'Anna', 'age': 28, 'city': 'Delhi'}\n"
          ]
        }
      ]
    },
    {
      "cell_type": "markdown",
      "source": [
        "22. Add a new key-value pair \"country\": \"USA\" to the dictionary {'name': 'John', 'age': 25}"
      ],
      "metadata": {
        "id": "xYLAR-5uRTWB"
      }
    },
    {
      "cell_type": "code",
      "source": [
        "info = {'name': 'John', 'age': 25}\n",
        "info['country'] = 'USA'\n",
        "print(info)"
      ],
      "metadata": {
        "colab": {
          "base_uri": "https://localhost:8080/"
        },
        "id": "5Ys4hOPpRZsC",
        "outputId": "c6f5fe45-cef1-4531-83e6-93d5b0fd0083"
      },
      "execution_count": 52,
      "outputs": [
        {
          "output_type": "stream",
          "name": "stdout",
          "text": [
            "{'name': 'John', 'age': 25, 'country': 'USA'}\n"
          ]
        }
      ]
    },
    {
      "cell_type": "markdown",
      "source": [
        "23. Access the value for the key \"name\" in {'name': 'Alice', 'age': 30}."
      ],
      "metadata": {
        "id": "Zlp98cryRdpX"
      }
    },
    {
      "cell_type": "code",
      "source": [
        "data = {'name': 'Alice', 'age': 30}\n",
        "print(data['name'])\n"
      ],
      "metadata": {
        "colab": {
          "base_uri": "https://localhost:8080/"
        },
        "id": "spZYkC7VRjIb",
        "outputId": "5424d868-a6aa-4460-cd22-39519d8b31e6"
      },
      "execution_count": 53,
      "outputs": [
        {
          "output_type": "stream",
          "name": "stdout",
          "text": [
            "Alice\n"
          ]
        }
      ]
    },
    {
      "cell_type": "markdown",
      "source": [
        "24. Remove the key \"age\" from {'name': 'Bob', 'age': 22, 'city': 'New York'}."
      ],
      "metadata": {
        "id": "DdEKrNWVRlND"
      }
    },
    {
      "cell_type": "code",
      "source": [
        "details = {'name': 'Bob', 'age': 22, 'city': 'New York'}\n",
        "details.pop('age')\n",
        "print(details)\n"
      ],
      "metadata": {
        "colab": {
          "base_uri": "https://localhost:8080/"
        },
        "id": "0DKxpK9cRnkC",
        "outputId": "683ee138-cf0a-427c-d4ea-50f4cf67f22e"
      },
      "execution_count": 54,
      "outputs": [
        {
          "output_type": "stream",
          "name": "stdout",
          "text": [
            "{'name': 'Bob', 'city': 'New York'}\n"
          ]
        }
      ]
    },
    {
      "cell_type": "markdown",
      "source": [
        "25. Check if the key \"city\" exists in {'name': 'Alice', 'city': 'Paris'}."
      ],
      "metadata": {
        "id": "Kfal37U_Rpmx"
      }
    },
    {
      "cell_type": "code",
      "source": [
        "profile = {'name': 'Alice', 'city': 'Paris'}\n",
        "print('city' in profile)\n"
      ],
      "metadata": {
        "colab": {
          "base_uri": "https://localhost:8080/"
        },
        "id": "YEUjoB37Rrwz",
        "outputId": "60b8a755-1ac5-4297-c71c-a12a1c413439"
      },
      "execution_count": 55,
      "outputs": [
        {
          "output_type": "stream",
          "name": "stdout",
          "text": [
            "True\n"
          ]
        }
      ]
    },
    {
      "cell_type": "markdown",
      "source": [
        "26. Create a list, a tuple, and a dictionary, and print them all."
      ],
      "metadata": {
        "id": "rxsu2K7hRt4g"
      }
    },
    {
      "cell_type": "code",
      "source": [
        "my_list = [1, 2, 3]\n",
        "my_tuple = ('a', 'b', 'c')\n",
        "my_dict = {'x': 10, 'y': 20}\n",
        "print(my_list)\n",
        "print(my_tuple)\n",
        "print(my_dict)\n"
      ],
      "metadata": {
        "colab": {
          "base_uri": "https://localhost:8080/"
        },
        "id": "jhSf2ATIRxzh",
        "outputId": "1a0a5a56-0980-4bb4-dff2-451f639c3025"
      },
      "execution_count": 56,
      "outputs": [
        {
          "output_type": "stream",
          "name": "stdout",
          "text": [
            "[1, 2, 3]\n",
            "('a', 'b', 'c')\n",
            "{'x': 10, 'y': 20}\n"
          ]
        }
      ]
    },
    {
      "cell_type": "markdown",
      "source": [
        "27. Create a list of 5 random numbers between 1 and 100, sort it, and print the result."
      ],
      "metadata": {
        "id": "nfcPOfGeR0kX"
      }
    },
    {
      "cell_type": "code",
      "source": [
        "import random\n",
        "nums = random.sample(range(1, 101), 5)\n",
        "nums.sort()\n",
        "print(nums)\n"
      ],
      "metadata": {
        "colab": {
          "base_uri": "https://localhost:8080/"
        },
        "id": "tDGcn1NOR3bM",
        "outputId": "1866466e-9fb4-49b8-f053-88be1e8fc943"
      },
      "execution_count": 57,
      "outputs": [
        {
          "output_type": "stream",
          "name": "stdout",
          "text": [
            "[3, 12, 21, 33, 61]\n"
          ]
        }
      ]
    },
    {
      "cell_type": "markdown",
      "source": [
        "28. Create a list with strings and print the element at the third index."
      ],
      "metadata": {
        "id": "X9zcC2G9R69_"
      }
    },
    {
      "cell_type": "code",
      "source": [
        "words = [\"apple\", \"banana\", \"cherry\", \"date\", \"fig\"]\n",
        "print(words[3])\n"
      ],
      "metadata": {
        "colab": {
          "base_uri": "https://localhost:8080/"
        },
        "id": "vBSCi4KiR5fv",
        "outputId": "71682586-49c5-4818-e334-6108abd87376"
      },
      "execution_count": 58,
      "outputs": [
        {
          "output_type": "stream",
          "name": "stdout",
          "text": [
            "date\n"
          ]
        }
      ]
    },
    {
      "cell_type": "markdown",
      "source": [
        "29. Combine two dictionaries into one and print the result."
      ],
      "metadata": {
        "id": "CsK9PdRlSCAQ"
      }
    },
    {
      "cell_type": "code",
      "source": [
        "dict1 = {'a': 1, 'b': 2}\n",
        "dict2 = {'c': 3, 'd': 4}\n",
        "combined = {**dict1, **dict2}\n",
        "print(combined)\n"
      ],
      "metadata": {
        "colab": {
          "base_uri": "https://localhost:8080/"
        },
        "id": "i24r9NrgSCqc",
        "outputId": "d032a2c9-6614-4d81-d963-9ec4a465704a"
      },
      "execution_count": 59,
      "outputs": [
        {
          "output_type": "stream",
          "name": "stdout",
          "text": [
            "{'a': 1, 'b': 2, 'c': 3, 'd': 4}\n"
          ]
        }
      ]
    },
    {
      "cell_type": "markdown",
      "source": [
        "30. Convert a list of strings into a set."
      ],
      "metadata": {
        "id": "dBzswakiSFMc"
      }
    },
    {
      "cell_type": "code",
      "source": [
        "names = [\"apple\", \"banana\", \"apple\", \"cherry\"]\n",
        "unique_names = set(names)\n",
        "print(unique_names)\n"
      ],
      "metadata": {
        "colab": {
          "base_uri": "https://localhost:8080/"
        },
        "id": "fS6jyxyFSH4f",
        "outputId": "7d82ba86-da03-4b7e-d56a-b3fb229bea8e"
      },
      "execution_count": 60,
      "outputs": [
        {
          "output_type": "stream",
          "name": "stdout",
          "text": [
            "{'apple', 'banana', 'cherry'}\n"
          ]
        }
      ]
    },
    {
      "cell_type": "markdown",
      "source": [],
      "metadata": {
        "id": "GPxP-Sf1PNk4"
      }
    }
  ]
}